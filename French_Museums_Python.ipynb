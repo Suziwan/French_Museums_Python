{
 "cells": [
  {
   "attachments": {},
   "cell_type": "markdown",
   "id": "d496f3d3",
   "metadata": {},
   "source": [
    "## Le tour de France des musées\n",
    "\n",
    "Tu viens d'être recruté en tant que stagiaire Data Analyst par le Ministère de la Culture. Le précédent stagiaire avait réussi à récolter le maximum d'informations sur les musées français.  \n",
    "Comme première mission, ton manager te demande d'analyser avec Python le fichier csv obtenu et d'essayer de trouver des informations intéressantes dans ce fichier.  "
   ]
  },
  {
   "attachments": {},
   "cell_type": "markdown",
   "id": "515296d6",
   "metadata": {},
   "source": [
    "### 1. Télécharger et ouvrir le fichier CSV"
   ]
  },
  {
   "cell_type": "code",
   "execution_count": 1,
   "id": "c9d7b365",
   "metadata": {},
   "outputs": [
    {
     "data": {
      "text/html": [
       "<div>\n",
       "<style scoped>\n",
       "    .dataframe tbody tr th:only-of-type {\n",
       "        vertical-align: middle;\n",
       "    }\n",
       "\n",
       "    .dataframe tbody tr th {\n",
       "        vertical-align: top;\n",
       "    }\n",
       "\n",
       "    .dataframe thead th {\n",
       "        text-align: right;\n",
       "    }\n",
       "</style>\n",
       "<table border=\"1\" class=\"dataframe\">\n",
       "  <thead>\n",
       "    <tr style=\"text-align: right;\">\n",
       "      <th></th>\n",
       "      <th>osm_id</th>\n",
       "      <th>name</th>\n",
       "      <th>number</th>\n",
       "      <th>street</th>\n",
       "      <th>postal_code</th>\n",
       "      <th>city</th>\n",
       "      <th>country</th>\n",
       "      <th>country_code</th>\n",
       "      <th>lat</th>\n",
       "      <th>lon</th>\n",
       "      <th>website</th>\n",
       "      <th>email</th>\n",
       "      <th>phone</th>\n",
       "      <th>fax</th>\n",
       "      <th>tags</th>\n",
       "      <th>description</th>\n",
       "      <th>date_added</th>\n",
       "      <th>wikidata</th>\n",
       "    </tr>\n",
       "  </thead>\n",
       "  <tbody>\n",
       "    <tr>\n",
       "      <th>0</th>\n",
       "      <td>4540234591</td>\n",
       "      <td>3 bis f</td>\n",
       "      <td>109</td>\n",
       "      <td>Avenue du Petit Barthélémy</td>\n",
       "      <td>13617.0</td>\n",
       "      <td>Aix-en-Provence</td>\n",
       "      <td>France</td>\n",
       "      <td>fr</td>\n",
       "      <td>43.521207</td>\n",
       "      <td>5.439875</td>\n",
       "      <td>http://www.3bisf.com</td>\n",
       "      <td>contact@3bisf.com</td>\n",
       "      <td>3.344216e+10</td>\n",
       "      <td>NaN</td>\n",
       "      <td>osm:museum;art:art contemporain</td>\n",
       "      <td>NaN</td>\n",
       "      <td>44116,0076388889</td>\n",
       "      <td>NaN</td>\n",
       "    </tr>\n",
       "    <tr>\n",
       "      <th>1</th>\n",
       "      <td>4388745689</td>\n",
       "      <td>A casa di Losari</td>\n",
       "      <td>NaN</td>\n",
       "      <td>T 30</td>\n",
       "      <td>20226.0</td>\n",
       "      <td>Belgodère</td>\n",
       "      <td>France</td>\n",
       "      <td>fr</td>\n",
       "      <td>42.638732</td>\n",
       "      <td>9.007660</td>\n",
       "      <td>NaN</td>\n",
       "      <td>NaN</td>\n",
       "      <td>NaN</td>\n",
       "      <td>NaN</td>\n",
       "      <td>osm:museum</td>\n",
       "      <td>NaN</td>\n",
       "      <td>43338,9393981481</td>\n",
       "      <td>NaN</td>\n",
       "    </tr>\n",
       "    <tr>\n",
       "      <th>2</th>\n",
       "      <td>4426176194</td>\n",
       "      <td>À l'homme volant</td>\n",
       "      <td>35</td>\n",
       "      <td>Grande Rue</td>\n",
       "      <td>72300.0</td>\n",
       "      <td>Sablé-sur-Sarthe</td>\n",
       "      <td>France</td>\n",
       "      <td>fr</td>\n",
       "      <td>47.839656</td>\n",
       "      <td>-0.334043</td>\n",
       "      <td>NaN</td>\n",
       "      <td>NaN</td>\n",
       "      <td>3.324395e+10</td>\n",
       "      <td>NaN</td>\n",
       "      <td>osm:museum;type:centre d'interpretation</td>\n",
       "      <td>NaN</td>\n",
       "      <td>42644,4636574074</td>\n",
       "      <td>NaN</td>\n",
       "    </tr>\n",
       "    <tr>\n",
       "      <th>3</th>\n",
       "      <td>7652598615</td>\n",
       "      <td>Abbadiale - Maison des arts</td>\n",
       "      <td>NaN</td>\n",
       "      <td>Rue du Gabizos</td>\n",
       "      <td>65400.0</td>\n",
       "      <td>Arras-en-Lavedan</td>\n",
       "      <td>France</td>\n",
       "      <td>fr</td>\n",
       "      <td>42.990826</td>\n",
       "      <td>-0.128057</td>\n",
       "      <td>https://www.abbadiale.fr/</td>\n",
       "      <td>NaN</td>\n",
       "      <td>3.363317e+10</td>\n",
       "      <td>NaN</td>\n",
       "      <td>osm:museum</td>\n",
       "      <td>NaN</td>\n",
       "      <td>44120,0466782407</td>\n",
       "      <td>NaN</td>\n",
       "    </tr>\n",
       "    <tr>\n",
       "      <th>4</th>\n",
       "      <td>121580330</td>\n",
       "      <td>Abbaye</td>\n",
       "      <td>NaN</td>\n",
       "      <td>Rue de l'Abbaye</td>\n",
       "      <td>39210.0</td>\n",
       "      <td>Château-Chalon</td>\n",
       "      <td>France</td>\n",
       "      <td>fr</td>\n",
       "      <td>46.753866</td>\n",
       "      <td>5.624296</td>\n",
       "      <td>NaN</td>\n",
       "      <td>NaN</td>\n",
       "      <td>NaN</td>\n",
       "      <td>NaN</td>\n",
       "      <td>osm:museum;art:architecture</td>\n",
       "      <td>NaN</td>\n",
       "      <td>43102,5491898148</td>\n",
       "      <td>NaN</td>\n",
       "    </tr>\n",
       "    <tr>\n",
       "      <th>...</th>\n",
       "      <td>...</td>\n",
       "      <td>...</td>\n",
       "      <td>...</td>\n",
       "      <td>...</td>\n",
       "      <td>...</td>\n",
       "      <td>...</td>\n",
       "      <td>...</td>\n",
       "      <td>...</td>\n",
       "      <td>...</td>\n",
       "      <td>...</td>\n",
       "      <td>...</td>\n",
       "      <td>...</td>\n",
       "      <td>...</td>\n",
       "      <td>...</td>\n",
       "      <td>...</td>\n",
       "      <td>...</td>\n",
       "      <td>...</td>\n",
       "      <td>...</td>\n",
       "    </tr>\n",
       "    <tr>\n",
       "      <th>3779</th>\n",
       "      <td>1348524503</td>\n",
       "      <td>Vivarium du Moulin</td>\n",
       "      <td>NaN</td>\n",
       "      <td>Rue Principale</td>\n",
       "      <td>68610.0</td>\n",
       "      <td>Thann-Guebwiller</td>\n",
       "      <td>France</td>\n",
       "      <td>fr</td>\n",
       "      <td>47.942258</td>\n",
       "      <td>7.149613</td>\n",
       "      <td>NaN</td>\n",
       "      <td>NaN</td>\n",
       "      <td>NaN</td>\n",
       "      <td>NaN</td>\n",
       "      <td>osm:museum</td>\n",
       "      <td>NaN</td>\n",
       "      <td>40747,8717476852</td>\n",
       "      <td>NaN</td>\n",
       "    </tr>\n",
       "    <tr>\n",
       "      <th>3780</th>\n",
       "      <td>577287841</td>\n",
       "      <td>Voyage au Temps des impressionnistes</td>\n",
       "      <td>NaN</td>\n",
       "      <td>Rue de Léry</td>\n",
       "      <td>95430.0</td>\n",
       "      <td>Auvers-sur-Oise</td>\n",
       "      <td>France</td>\n",
       "      <td>fr</td>\n",
       "      <td>49.072057</td>\n",
       "      <td>2.166167</td>\n",
       "      <td>NaN</td>\n",
       "      <td>NaN</td>\n",
       "      <td>NaN</td>\n",
       "      <td>NaN</td>\n",
       "      <td>osm:museum</td>\n",
       "      <td>NaN</td>\n",
       "      <td>41141,7272222222</td>\n",
       "      <td>NaN</td>\n",
       "    </tr>\n",
       "    <tr>\n",
       "      <th>3781</th>\n",
       "      <td>145062184</td>\n",
       "      <td>Wines and Spirits Museum</td>\n",
       "      <td>NaN</td>\n",
       "      <td>Corniche Bonaparte</td>\n",
       "      <td>83150.0</td>\n",
       "      <td>Bandol</td>\n",
       "      <td>France</td>\n",
       "      <td>fr</td>\n",
       "      <td>43.128031</td>\n",
       "      <td>5.749484</td>\n",
       "      <td>NaN</td>\n",
       "      <td>NaN</td>\n",
       "      <td>NaN</td>\n",
       "      <td>NaN</td>\n",
       "      <td>osm:museum</td>\n",
       "      <td>NaN</td>\n",
       "      <td>42367,7135069444</td>\n",
       "      <td>NaN</td>\n",
       "    </tr>\n",
       "    <tr>\n",
       "      <th>3782</th>\n",
       "      <td>82988725</td>\n",
       "      <td>Xanxotea</td>\n",
       "      <td>NaN</td>\n",
       "      <td>La Place</td>\n",
       "      <td>64240.0</td>\n",
       "      <td>Isturits</td>\n",
       "      <td>France</td>\n",
       "      <td>fr</td>\n",
       "      <td>43.364834</td>\n",
       "      <td>-1.203580</td>\n",
       "      <td>http://www.xanxotea.com/</td>\n",
       "      <td>NaN</td>\n",
       "      <td>NaN</td>\n",
       "      <td>NaN</td>\n",
       "      <td>osm:museum</td>\n",
       "      <td>Musée ethnographique Xanxotea pour découvrir l...</td>\n",
       "      <td>44129,580775463</td>\n",
       "      <td>NaN</td>\n",
       "    </tr>\n",
       "    <tr>\n",
       "      <th>3783</th>\n",
       "      <td>277107550</td>\n",
       "      <td>Xylotheque - Kiosque Pedagogique</td>\n",
       "      <td>NaN</td>\n",
       "      <td>Impasse de la Haie Vive</td>\n",
       "      <td>45590.0</td>\n",
       "      <td>Saint-Cyr-en-Val</td>\n",
       "      <td>France</td>\n",
       "      <td>fr</td>\n",
       "      <td>47.825888</td>\n",
       "      <td>1.967795</td>\n",
       "      <td>NaN</td>\n",
       "      <td>NaN</td>\n",
       "      <td>NaN</td>\n",
       "      <td>NaN</td>\n",
       "      <td>osm:museum</td>\n",
       "      <td>NaN</td>\n",
       "      <td>43331,4758449074</td>\n",
       "      <td>NaN</td>\n",
       "    </tr>\n",
       "  </tbody>\n",
       "</table>\n",
       "<p>3784 rows × 18 columns</p>\n",
       "</div>"
      ],
      "text/plain": [
       "          osm_id                                  name number  \\\n",
       "0     4540234591                               3 bis f    109   \n",
       "1     4388745689                      A casa di Losari    NaN   \n",
       "2     4426176194                      À l'homme volant     35   \n",
       "3     7652598615           Abbadiale - Maison des arts    NaN   \n",
       "4      121580330                                Abbaye    NaN   \n",
       "...          ...                                   ...    ...   \n",
       "3779  1348524503                    Vivarium du Moulin    NaN   \n",
       "3780   577287841  Voyage au Temps des impressionnistes    NaN   \n",
       "3781   145062184              Wines and Spirits Museum    NaN   \n",
       "3782    82988725                              Xanxotea    NaN   \n",
       "3783   277107550      Xylotheque - Kiosque Pedagogique    NaN   \n",
       "\n",
       "                          street  postal_code              city country  \\\n",
       "0     Avenue du Petit Barthélémy      13617.0   Aix-en-Provence  France   \n",
       "1                           T 30      20226.0         Belgodère  France   \n",
       "2                     Grande Rue      72300.0  Sablé-sur-Sarthe  France   \n",
       "3                 Rue du Gabizos      65400.0  Arras-en-Lavedan  France   \n",
       "4                Rue de l'Abbaye      39210.0    Château-Chalon  France   \n",
       "...                          ...          ...               ...     ...   \n",
       "3779              Rue Principale      68610.0  Thann-Guebwiller  France   \n",
       "3780                 Rue de Léry      95430.0   Auvers-sur-Oise  France   \n",
       "3781          Corniche Bonaparte      83150.0            Bandol  France   \n",
       "3782                    La Place      64240.0          Isturits  France   \n",
       "3783     Impasse de la Haie Vive      45590.0  Saint-Cyr-en-Val  France   \n",
       "\n",
       "     country_code        lat       lon                    website  \\\n",
       "0              fr  43.521207  5.439875       http://www.3bisf.com   \n",
       "1              fr  42.638732  9.007660                        NaN   \n",
       "2              fr  47.839656 -0.334043                        NaN   \n",
       "3              fr  42.990826 -0.128057  https://www.abbadiale.fr/   \n",
       "4              fr  46.753866  5.624296                        NaN   \n",
       "...           ...        ...       ...                        ...   \n",
       "3779           fr  47.942258  7.149613                        NaN   \n",
       "3780           fr  49.072057  2.166167                        NaN   \n",
       "3781           fr  43.128031  5.749484                        NaN   \n",
       "3782           fr  43.364834 -1.203580   http://www.xanxotea.com/   \n",
       "3783           fr  47.825888  1.967795                        NaN   \n",
       "\n",
       "                  email         phone  fax  \\\n",
       "0     contact@3bisf.com  3.344216e+10  NaN   \n",
       "1                   NaN           NaN  NaN   \n",
       "2                   NaN  3.324395e+10  NaN   \n",
       "3                   NaN  3.363317e+10  NaN   \n",
       "4                   NaN           NaN  NaN   \n",
       "...                 ...           ...  ...   \n",
       "3779                NaN           NaN  NaN   \n",
       "3780                NaN           NaN  NaN   \n",
       "3781                NaN           NaN  NaN   \n",
       "3782                NaN           NaN  NaN   \n",
       "3783                NaN           NaN  NaN   \n",
       "\n",
       "                                         tags  \\\n",
       "0             osm:museum;art:art contemporain   \n",
       "1                                  osm:museum   \n",
       "2     osm:museum;type:centre d'interpretation   \n",
       "3                                  osm:museum   \n",
       "4                 osm:museum;art:architecture   \n",
       "...                                       ...   \n",
       "3779                               osm:museum   \n",
       "3780                               osm:museum   \n",
       "3781                               osm:museum   \n",
       "3782                               osm:museum   \n",
       "3783                               osm:museum   \n",
       "\n",
       "                                            description        date_added  \\\n",
       "0                                                   NaN  44116,0076388889   \n",
       "1                                                   NaN  43338,9393981481   \n",
       "2                                                   NaN  42644,4636574074   \n",
       "3                                                   NaN  44120,0466782407   \n",
       "4                                                   NaN  43102,5491898148   \n",
       "...                                                 ...               ...   \n",
       "3779                                                NaN  40747,8717476852   \n",
       "3780                                                NaN  41141,7272222222   \n",
       "3781                                                NaN  42367,7135069444   \n",
       "3782  Musée ethnographique Xanxotea pour découvrir l...   44129,580775463   \n",
       "3783                                                NaN  43331,4758449074   \n",
       "\n",
       "     wikidata  \n",
       "0         NaN  \n",
       "1         NaN  \n",
       "2         NaN  \n",
       "3         NaN  \n",
       "4         NaN  \n",
       "...       ...  \n",
       "3779      NaN  \n",
       "3780      NaN  \n",
       "3781      NaN  \n",
       "3782      NaN  \n",
       "3783      NaN  \n",
       "\n",
       "[3784 rows x 18 columns]"
      ]
     },
     "metadata": {},
     "output_type": "display_data"
    }
   ],
   "source": [
    "import pandas as pd\n",
    "import numpy as np\n",
    "import re\n",
    "from tabulate import tabulate\n",
    "\n",
    "museums = pd.read_csv('liste-des-musees-de-france-2021.csv', encoding='latin-1', delimiter=\";\")\n",
    "display(museums)"
   ]
  },
  {
   "attachments": {},
   "cell_type": "markdown",
   "id": "bcecaba2",
   "metadata": {},
   "source": [
    "### 2. Répondre aux questions du manager"
   ]
  },
  {
   "cell_type": "code",
   "execution_count": 2,
   "id": "95eafddb",
   "metadata": {},
   "outputs": [
    {
     "name": "stdout",
     "output_type": "stream",
     "text": [
      "Il y a 3784 musées en France métropolitaine.\n"
     ]
    }
   ],
   "source": [
    "# Combien y-a-t-il de musées en France métropolitaine ?\n",
    "total_museums = len(museums)\n",
    "print(f'Il y a {total_museums} musées en France métropolitaine.')"
   ]
  },
  {
   "cell_type": "code",
   "execution_count": 3,
   "id": "1dced734",
   "metadata": {},
   "outputs": [
    {
     "name": "stdout",
     "output_type": "stream",
     "text": [
      "La ville avec le plus de musées est Paris, avec 175 musées.\n"
     ]
    }
   ],
   "source": [
    "# Dans quelle(s) ville(s) y-a-t-il le plus de musées ?\n",
    "city_counts = museums.groupby('city').size().reset_index(name='count')\n",
    "city_counts = city_counts.sort_values(by='count', ascending=False)\n",
    "most_museums_city = city_counts.iloc[0]['city']\n",
    "num_museums = city_counts.iloc[0]['count']\n",
    "print(f\"La ville avec le plus de musées est {most_museums_city}, avec {num_museums} musées.\")"
   ]
  },
  {
   "cell_type": "code",
   "execution_count": 4,
   "id": "31874b18",
   "metadata": {},
   "outputs": [
    {
     "name": "stdout",
     "output_type": "stream",
     "text": [
      "Nombre moyen de musées par ville: 1.647930283224401\n"
     ]
    }
   ],
   "source": [
    "# Quel est le nombre moyen de musées par ville ?\n",
    "avg_museums_per_city = city_counts['count'].mean()\n",
    "print('Nombre moyen de musées par ville:', avg_museums_per_city)"
   ]
  },
  {
   "cell_type": "code",
   "execution_count": 5,
   "id": "01ecc2a7",
   "metadata": {},
   "outputs": [
    {
     "name": "stdout",
     "output_type": "stream",
     "text": [
      "Nombre médian de musées par ville: 1.0\n"
     ]
    }
   ],
   "source": [
    "# Quel est le nombre médian de musées par ville ?\n",
    "median_museums_per_city = city_counts['count'].median()\n",
    "print('Nombre médian de musées par ville:', median_museums_per_city)"
   ]
  },
  {
   "cell_type": "code",
   "execution_count": 6,
   "id": "05ce037b",
   "metadata": {},
   "outputs": [
    {
     "name": "stdout",
     "output_type": "stream",
     "text": [
      "Répartition des musées par type :\n",
      "Type                           Percentage\n",
      "-----------------------------  ------------\n",
      "ecomusee                       27.07%\n",
      "musee technique et industriel  14.29%\n",
      "musee d'histoire               10.95%\n",
      "musee de beaux-arts            8.64%\n",
      "musee archeologique            7.41%\n",
      "musee d'art                    7.41%\n",
      "maison d'artiste               4.49%\n",
      "musee d'arts populaires        3.95%\n",
      "musee d'histoire naturelle     3.88%\n",
      "centre d'interpretation        3.13%\n",
      "musee litteraire               2.24%\n",
      "musee de sciences              1.56%\n",
      "centre d'art                   1.36%\n",
      "fondation                      1.22%\n",
      "musee d'artiste                1.02%\n",
      "atelier d'artiste              0.54%\n",
      "bibliotheque                   0.27%\n",
      "musee ethnographique           0.20%\n",
      "musee d'arts populaires        0.14%\n",
      "musee d'architecture           0.07%\n",
      "maison litteraire              0.07%\n",
      "musee d'art populaire          0.07%\n"
     ]
    }
   ],
   "source": [
    "# Comment sont répartis les musées par type (en pourcentage) ?\n",
    "tags = museums['tags'].dropna()\n",
    "tags = tags[tags != 'osm:museum']\n",
    "types = tags.str.findall(r'type:(.*?)(?:;|$)').explode().str.strip().str.replace('é', 'e')\n",
    "types = types.str.replace('ecomuseum', 'ecomusee')\n",
    "types_count = types.value_counts(normalize=True) * 100\n",
    "\n",
    "table = []\n",
    "\n",
    "for index, value in types_count.items():\n",
    "    table.append([index.replace('type:', ''), f\"{value:.2f}%\"])\n",
    "print('Répartition des musées par type :')\n",
    "print(tabulate(table, headers=['Type', 'Percentage']))"
   ]
  },
  {
   "cell_type": "code",
   "execution_count": 7,
   "id": "f52f12cf",
   "metadata": {},
   "outputs": [
    {
     "name": "stdout",
     "output_type": "stream",
     "text": [
      "Il y a 57 musées qui commencent par 'Château'.\n"
     ]
    }
   ],
   "source": [
    "# Combien y-a-t-il de musées dont le nom commence par \"Château\" ?\n",
    "num_chateau_museums = museums['name'].str.startswith('Château').sum()\n",
    "print(f\"Il y a {num_chateau_museums} musées qui commencent par 'Château'.\")"
   ]
  },
  {
   "cell_type": "code",
   "execution_count": 8,
   "id": "8daa45ee",
   "metadata": {},
   "outputs": [
    {
     "name": "stdout",
     "output_type": "stream",
     "text": [
      "Il y a 1636 musées qui disposent d'une adresse de site web.\n"
     ]
    }
   ],
   "source": [
    "# Pour combien de musées dispose-t-on de l'adresse du site web ?\n",
    "num_websites = museums['website'].count()\n",
    "print(f\"Il y a {num_websites} musées qui disposent d'une adresse de site web.\")"
   ]
  },
  {
   "cell_type": "code",
   "execution_count": 9,
   "id": "02945134",
   "metadata": {},
   "outputs": [
    {
     "name": "stdout",
     "output_type": "stream",
     "text": [
      "Le département avec le plus de musées est celui du 75 avec 180 musées.\n"
     ]
    }
   ],
   "source": [
    "# Quel département français possède le plus de musées sur son territoire ?\n",
    "museums['postal_code'] = museums['postal_code'].astype(str)\n",
    "museums['dept_code'] = museums['postal_code'].str[:2]\n",
    "dept_counts = museums['dept_code'].value_counts()\n",
    "max_dept = dept_counts.index[0]\n",
    "max_dept_count = dept_counts[max_dept]\n",
    "print(f\"Le département avec le plus de musées est celui du {max_dept} avec {max_dept_count} musées.\")"
   ]
  },
  {
   "cell_type": "code",
   "execution_count": 10,
   "id": "73e719e5",
   "metadata": {},
   "outputs": [
    {
     "name": "stdout",
     "output_type": "stream",
     "text": [
      "Le département avec le moins de musées est celui du 98 avec 8 musées.\n"
     ]
    }
   ],
   "source": [
    "# Quel département français possède le moins de musées sur son territoire ?\n",
    "min_dept = dept_counts.index[-1]\n",
    "min_dept_count = dept_counts[min_dept]\n",
    "print(f\"Le département avec le moins de musées est celui du {min_dept} avec {min_dept_count} musées.\")"
   ]
  },
  {
   "cell_type": "code",
   "execution_count": 11,
   "id": "8b1d3e57",
   "metadata": {},
   "outputs": [
    {
     "name": "stdout",
     "output_type": "stream",
     "text": [
      "Il y a 4 musées avec 'Napoléon' dans leur nom.\n"
     ]
    }
   ],
   "source": [
    "# Combien de musées ont \"Napoléon\" dans leur nom ?\n",
    "napoleon_count = museums['name'].str.contains('Napoléon').sum()\n",
    "print(f\"Il y a {napoleon_count} musées avec 'Napoléon' dans leur nom.\")"
   ]
  },
  {
   "attachments": {},
   "cell_type": "markdown",
   "id": "9fe3086e",
   "metadata": {},
   "source": [
    "### 3. Axes d'analyse supplémentaires\n",
    "\n",
    "Donner d'autres sources contenant des informations supplémentaires qui peuvent être ajoutées au fichier initial :\n",
    "\n",
    "- La base \"Joconde\" qui contient le catalogue des collections de musées de France :  \n",
    "https://cour-de-france.fr/actualites/liens-utiles/bases-de-donnees-publiees-sur-des-sites-tiers/article/base-joconde-catalogue-des-collections-des-musees-de-france?lang=fr  \n",
    "Créée en 1975, JOCONDE donne aujourd’hui accès (fin mars 2008) à plus de 366.000 notices d’objets, dont 200.000 sont illustrées par une ou plusieurs images. Ces notices proviennent de plus de 282 musées différents (affectataires ou dépositaires) qui conservent des collections d’archéologie, de beaux-arts, d’arts décoratifs, d’ethnologie, d’histoire ou encore de sciences et techniques.\n",
    "\n",
    "- La base Muséophile qui répertorie les musées de France :  \n",
    "https://data.culture.gouv.fr/explore/dataset/musees-de-france-base-museofile/information/  \n",
    "La base Muséofile répertorie les musées bénéficiant de l'appellation « musée de France » au sens du Code du Patrimoine (1220 environ). Elle est accessible sur la Plateforme Ouverte du Patrimoine. Les données de cette base sont liées à celles de la base Joconde, catalogue collectif des collections des musées de France.\n",
    "\n",
    "- La base des fréquentations des musées de France :  \n",
    "https://data.culture.gouv.fr/explore/dataset/frequentation-des-musees-de-france/information/  \n",
    "Fréquentation totale, payante et gratuite dans les Musées de France de 2001 à 2020.\n"
   ]
  }
 ],
 "metadata": {
  "kernelspec": {
   "display_name": "Python 3 (ipykernel)",
   "language": "python",
   "name": "python3"
  },
  "language_info": {
   "codemirror_mode": {
    "name": "ipython",
    "version": 3
   },
   "file_extension": ".py",
   "mimetype": "text/x-python",
   "name": "python",
   "nbconvert_exporter": "python",
   "pygments_lexer": "ipython3",
   "version": "3.10.9"
  }
 },
 "nbformat": 4,
 "nbformat_minor": 5
}
